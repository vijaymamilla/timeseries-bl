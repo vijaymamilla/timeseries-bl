{
 "cells": [
  {
   "cell_type": "code",
   "execution_count": 38,
   "metadata": {
    "colab": {
     "base_uri": "https://localhost:8080/"
    },
    "id": "mOrtghntJXfV",
    "outputId": "969c267c-8919-4417-9d95-fce1ccb658ac"
   },
   "outputs": [
    {
     "name": "stdout",
     "output_type": "stream",
     "text": [
      "2.15.0\n"
     ]
    }
   ],
   "source": [
    "\n",
    "\n",
    "import tensorflow as tf\n",
    "print(tf.__version__)"
   ]
  },
  {
   "cell_type": "code",
   "execution_count": 39,
   "metadata": {
    "id": "8Luzp1Ou2h-N"
   },
   "outputs": [],
   "source": [
    "import datetime\n",
    "\n",
    "import numpy as np\n",
    "import pandas as pd\n",
    "import seaborn as sns\n",
    "import tensorflow as tf\n",
    "import matplotlib.pyplot as plt\n",
    "\n",
    "from tensorflow.keras import Model, Sequential\n",
    "\n",
    "from tensorflow.keras.optimizers import Adam\n",
    "from tensorflow.keras.callbacks import EarlyStopping\n",
    "from tensorflow.keras.losses import MeanSquaredError\n",
    "from tensorflow.keras.metrics import MeanAbsoluteError\n",
    "\n",
    "from tensorflow.keras.layers import Dense, Conv1D, LSTM, Lambda, Reshape, RNN, LSTMCell\n",
    "\n",
    "import warnings\n",
    "warnings.filterwarnings('ignore')"
   ]
  },
  {
   "cell_type": "code",
   "execution_count": 40,
   "metadata": {
    "id": "-RbEbk7St3_K"
   },
   "outputs": [],
   "source": [
    "plt.rcParams['figure.figsize'] = (10, 7.5)\n",
    "plt.rcParams['axes.grid'] = False"
   ]
  },
  {
   "cell_type": "code",
   "execution_count": 41,
   "metadata": {
    "id": "sO4j2Z_Pt5gS"
   },
   "outputs": [],
   "source": [
    "tf.random.set_seed(42)\n",
    "np.random.seed(42)"
   ]
  },
  {
   "cell_type": "code",
   "execution_count": 42,
   "metadata": {
    "colab": {
     "base_uri": "https://localhost:8080/"
    },
    "id": "F4fClMlaJPZN",
    "outputId": "affebb92-80bf-4fd8-f955-7e6e53f4781b"
   },
   "outputs": [
    {
     "name": "stdout",
     "output_type": "stream",
     "text": [
      "(2716, 26) (776, 26) (389, 26)\n"
     ]
    }
   ],
   "source": [
    "train_df = pd.read_csv('data/train.csv', index_col='datetime',parse_dates=True)\n",
    "val_df = pd.read_csv('data/val.csv', index_col='datetime',parse_dates=True)\n",
    "test_df = pd.read_csv('data/test.csv', index_col='datetime',parse_dates=True)\n",
    "\n",
    "print(train_df.shape, val_df.shape, test_df.shape)\n"
   ]
  },
  {
   "cell_type": "code",
   "execution_count": 43,
   "metadata": {
    "id": "cWrMbDVzobn6"
   },
   "outputs": [],
   "source": [
    "#DataWindow Class"
   ]
  },
  {
   "cell_type": "code",
   "execution_count": 44,
   "metadata": {
    "id": "e-1iDKP2sWy_"
   },
   "outputs": [],
   "source": [
    "class DataWindow():\n",
    "    def __init__(self, input_width, label_width, shift,\n",
    "                 train_df=train_df, val_df=val_df, test_df=test_df,\n",
    "                 label_columns=None):\n",
    "\n",
    "        self.train_df = train_df\n",
    "        self.val_df = val_df\n",
    "        self.test_df = test_df\n",
    "\n",
    "        self.label_columns = label_columns\n",
    "        if label_columns is not None:\n",
    "            self.label_columns_indices = {name: i for i, name in enumerate(label_columns)}\n",
    "        self.column_indices = {name: i for i, name in enumerate(train_df.columns)}\n",
    "\n",
    "        self.input_width = input_width\n",
    "        self.label_width = label_width\n",
    "        self.shift = shift\n",
    "\n",
    "        self.total_window_size = input_width + shift\n",
    "\n",
    "        self.input_slice = slice(0, input_width)\n",
    "        self.input_indices = np.arange(self.total_window_size)[self.input_slice]\n",
    "\n",
    "        self.label_start = self.total_window_size - self.label_width\n",
    "        self.labels_slice = slice(self.label_start, None)\n",
    "        self.label_indices = np.arange(self.total_window_size)[self.labels_slice]\n",
    "\n",
    "    def split_to_inputs_labels(self, features):\n",
    "        inputs = features[:, self.input_slice, :]\n",
    "        labels = features[:, self.labels_slice, :]\n",
    "        if self.label_columns is not None:\n",
    "            labels = tf.stack(\n",
    "                [labels[:,:,self.column_indices[name]] for name in self.label_columns],\n",
    "                axis=-1\n",
    "            )\n",
    "        inputs.set_shape([None, self.input_width, None])\n",
    "        labels.set_shape([None, self.label_width, None])\n",
    "\n",
    "        return inputs, labels\n",
    "\n",
    "\n",
    "    def make_dataset(self, data):\n",
    "        data = np.array(data, dtype=np.float32)\n",
    "        ds = tf.keras.preprocessing.timeseries_dataset_from_array(\n",
    "            data=data,\n",
    "            targets=None,\n",
    "            sequence_length=self.total_window_size,\n",
    "            sequence_stride=1,\n",
    "            shuffle=True,\n",
    "            batch_size=32\n",
    "        )\n",
    "\n",
    "        ds = ds.map(self.split_to_inputs_labels)\n",
    "        return ds\n",
    "\n",
    "    @property\n",
    "    def train(self):\n",
    "        return self.make_dataset(self.train_df)\n",
    "\n",
    "    @property\n",
    "    def val(self):\n",
    "        return self.make_dataset(self.val_df)\n",
    "\n",
    "    @property\n",
    "    def test(self):\n",
    "        return self.make_dataset(self.test_df)\n",
    "\n",
    "    @property\n",
    "    def sample_batch(self):\n",
    "        result = getattr(self, '_sample_batch', None)\n",
    "        if result is None:\n",
    "            result = next(iter(self.train))\n",
    "            self._sample_batch = result\n",
    "        return result"
   ]
  },
  {
   "cell_type": "code",
   "execution_count": 45,
   "metadata": {
    "id": "bd2UWDFu0MP0"
   },
   "outputs": [],
   "source": [
    "class Baseline(Model):\n",
    "    def __init__(self, label_index=None):\n",
    "        super().__init__()\n",
    "        self.label_index = label_index\n",
    "\n",
    "    def call(self, inputs):\n",
    "        if self.label_index is None:\n",
    "            return inputs\n",
    "\n",
    "        elif isinstance(self.label_index, list):\n",
    "            tensors = []\n",
    "            for index in self.label_index:\n",
    "                result = inputs[:, :, index]\n",
    "                result = result[:, :, tf.newaxis]\n",
    "                tensors.append(result)\n",
    "            return tf.concat(tensors, axis=-1)\n",
    "\n",
    "        result = inputs[:, :, self.label_index]\n",
    "        return result[:,:,tf.newaxis]"
   ]
  },
  {
   "cell_type": "markdown",
   "metadata": {
    "id": "Nl3QzDafu76i"
   },
   "source": [
    "Multi-output baseline model\n"
   ]
  },
  {
   "cell_type": "code",
   "execution_count": 46,
   "metadata": {
    "id": "28cMpCI5u-9T"
   },
   "outputs": [],
   "source": [
    "mo_single_step_window = DataWindow(input_width=1, label_width=1, shift=1, label_columns=['precip','rain_sum','river_discharge'])\n",
    "mo_wide_window = DataWindow(input_width=14, label_width=14, shift=1, label_columns=['precip','rain_sum','river_discharge'])"
   ]
  },
  {
   "cell_type": "code",
   "execution_count": 47,
   "metadata": {
    "id": "rbzGdipTzI0A"
   },
   "outputs": [],
   "source": [
    "column_indices = {name: i for i, name in enumerate(train_df.columns)}"
   ]
  },
  {
   "cell_type": "code",
   "execution_count": 48,
   "metadata": {
    "colab": {
     "base_uri": "https://localhost:8080/"
    },
    "id": "FNAy4iegy5Ub",
    "outputId": "1bdf7b1b-8d4a-4147-f5fe-c36c12aa94dc"
   },
   "outputs": [
    {
     "name": "stdout",
     "output_type": "stream",
     "text": [
      "25\n",
      "24\n",
      "23\n"
     ]
    }
   ],
   "source": [
    "print(column_indices['precip'])\n",
    "print(column_indices['rain_sum'])\n",
    "print(column_indices['river_discharge'])\n"
   ]
  },
  {
   "cell_type": "code",
   "execution_count": 49,
   "metadata": {
    "colab": {
     "base_uri": "https://localhost:8080/"
    },
    "id": "Ui5igR1Ky6D-",
    "outputId": "84ba501c-b145-46b3-c80d-1abe297ed791"
   },
   "outputs": [
    {
     "name": "stdout",
     "output_type": "stream",
     "text": [
      "24/24 [==============================] - 0s 2ms/step - loss: 0.0075 - mean_absolute_error: 0.0510\n"
     ]
    }
   ],
   "source": [
    "mo_baseline_last = Baseline(label_index=[23,24,25])\n",
    "\n",
    "mo_baseline_last.compile(loss=MeanSquaredError(), metrics=[MeanAbsoluteError()])\n",
    "\n",
    "mo_val_performance = {}\n",
    "mo_performance = {}\n",
    "\n",
    "mo_val_performance['Baseline - Last'] = mo_baseline_last.evaluate(mo_wide_window.val)\n",
    "mo_performance['Baseline - Last'] = mo_baseline_last.evaluate(mo_wide_window.test, verbose=0)"
   ]
  },
  {
   "cell_type": "code",
   "execution_count": 50,
   "metadata": {
    "colab": {
     "base_uri": "https://localhost:8080/"
    },
    "id": "Ld48v3_g3hqd",
    "outputId": "151d4aa5-c4fd-4180-b8a5-899f4fd56e68"
   },
   "outputs": [
    {
     "name": "stdout",
     "output_type": "stream",
     "text": [
      "0.038097064942121506\n"
     ]
    }
   ],
   "source": [
    "print(mo_performance['Baseline - Last'][1])"
   ]
  },
  {
   "cell_type": "markdown",
   "metadata": {
    "id": "tjXkluJu35p3"
   },
   "source": [
    "Implementing a deep neural network as a multi-output model"
   ]
  },
  {
   "cell_type": "code",
   "execution_count": 51,
   "metadata": {
    "id": "FnltKLWg40mK"
   },
   "outputs": [],
   "source": [
    "def compile_and_fit(model, window, patience=3, max_epochs=50):\n",
    "    early_stopping = EarlyStopping(monitor='val_loss',\n",
    "                                   patience=patience,\n",
    "                                   mode='min')\n",
    "\n",
    "    model.compile(loss=MeanSquaredError(),\n",
    "                  optimizer=Adam(),\n",
    "                  metrics=[MeanAbsoluteError()])\n",
    "\n",
    "    history = model.fit(window.train,\n",
    "                       epochs=max_epochs,\n",
    "                       validation_data=window.val,\n",
    "                       callbacks=[early_stopping])\n",
    "\n",
    "    return history"
   ]
  },
  {
   "cell_type": "code",
   "execution_count": 52,
   "metadata": {
    "colab": {
     "base_uri": "https://localhost:8080/"
    },
    "id": "On2uYjXi3q70",
    "outputId": "ae91beba-b5a9-4c40-bb1e-1c369f816980"
   },
   "outputs": [
    {
     "name": "stdout",
     "output_type": "stream",
     "text": [
      "Epoch 1/50\n",
      "85/85 [==============================] - 1s 4ms/step - loss: 0.0055 - mean_absolute_error: 0.0459 - val_loss: 0.0027 - val_mean_absolute_error: 0.0333\n",
      "Epoch 2/50\n",
      "85/85 [==============================] - 0s 3ms/step - loss: 0.0043 - mean_absolute_error: 0.0380 - val_loss: 0.0027 - val_mean_absolute_error: 0.0360\n",
      "Epoch 3/50\n",
      "85/85 [==============================] - 0s 3ms/step - loss: 0.0038 - mean_absolute_error: 0.0344 - val_loss: 0.0023 - val_mean_absolute_error: 0.0279\n",
      "Epoch 4/50\n",
      "85/85 [==============================] - 0s 3ms/step - loss: 0.0038 - mean_absolute_error: 0.0342 - val_loss: 0.0023 - val_mean_absolute_error: 0.0279\n",
      "Epoch 5/50\n",
      "85/85 [==============================] - 0s 3ms/step - loss: 0.0037 - mean_absolute_error: 0.0338 - val_loss: 0.0024 - val_mean_absolute_error: 0.0323\n",
      "Epoch 6/50\n",
      "85/85 [==============================] - 0s 3ms/step - loss: 0.0037 - mean_absolute_error: 0.0330 - val_loss: 0.0024 - val_mean_absolute_error: 0.0276\n",
      "25/25 [==============================] - 0s 2ms/step - loss: 0.0024 - mean_absolute_error: 0.0276\n"
     ]
    }
   ],
   "source": [
    "mo_dense = Sequential([\n",
    "    Dense(units=64, activation='relu'),\n",
    "    Dense(units=64, activation='relu'),\n",
    "    Dense(units=3)\n",
    "])\n",
    "\n",
    "history = compile_and_fit(mo_dense, mo_single_step_window)\n",
    "\n",
    "mo_val_performance['Dense'] = mo_dense.evaluate(mo_single_step_window.val)\n",
    "mo_performance['Dense'] = mo_dense.evaluate(mo_single_step_window.test, verbose=0)"
   ]
  },
  {
   "cell_type": "markdown",
   "metadata": {
    "id": "r--e4DKB8TOx"
   },
   "source": [
    "**LSTM**"
   ]
  },
  {
   "cell_type": "code",
   "execution_count": 53,
   "metadata": {
    "colab": {
     "base_uri": "https://localhost:8080/"
    },
    "id": "HeX1hwEH8W8R",
    "outputId": "098f1f48-6a4c-4fbc-949d-ae7ffaae454c"
   },
   "outputs": [
    {
     "name": "stdout",
     "output_type": "stream",
     "text": [
      "Epoch 1/50\n",
      "85/85 [==============================] - 3s 12ms/step - loss: 0.0115 - mean_absolute_error: 0.0700 - val_loss: 0.0035 - val_mean_absolute_error: 0.0404\n",
      "Epoch 2/50\n",
      "85/85 [==============================] - 1s 7ms/step - loss: 0.0049 - mean_absolute_error: 0.0431 - val_loss: 0.0030 - val_mean_absolute_error: 0.0364\n",
      "Epoch 3/50\n",
      "85/85 [==============================] - 1s 6ms/step - loss: 0.0044 - mean_absolute_error: 0.0394 - val_loss: 0.0027 - val_mean_absolute_error: 0.0336\n",
      "Epoch 4/50\n",
      "85/85 [==============================] - 1s 7ms/step - loss: 0.0041 - mean_absolute_error: 0.0369 - val_loss: 0.0026 - val_mean_absolute_error: 0.0329\n",
      "Epoch 5/50\n",
      "85/85 [==============================] - 1s 7ms/step - loss: 0.0039 - mean_absolute_error: 0.0353 - val_loss: 0.0025 - val_mean_absolute_error: 0.0313\n",
      "Epoch 6/50\n",
      "85/85 [==============================] - 1s 7ms/step - loss: 0.0037 - mean_absolute_error: 0.0339 - val_loss: 0.0025 - val_mean_absolute_error: 0.0314\n",
      "Epoch 7/50\n",
      "85/85 [==============================] - 1s 7ms/step - loss: 0.0036 - mean_absolute_error: 0.0330 - val_loss: 0.0024 - val_mean_absolute_error: 0.0300\n",
      "Epoch 8/50\n",
      "85/85 [==============================] - 1s 7ms/step - loss: 0.0035 - mean_absolute_error: 0.0322 - val_loss: 0.0023 - val_mean_absolute_error: 0.0296\n",
      "Epoch 9/50\n",
      "85/85 [==============================] - 1s 6ms/step - loss: 0.0034 - mean_absolute_error: 0.0316 - val_loss: 0.0022 - val_mean_absolute_error: 0.0286\n",
      "Epoch 10/50\n",
      "85/85 [==============================] - 1s 7ms/step - loss: 0.0034 - mean_absolute_error: 0.0310 - val_loss: 0.0022 - val_mean_absolute_error: 0.0282\n",
      "Epoch 11/50\n",
      "85/85 [==============================] - 1s 6ms/step - loss: 0.0033 - mean_absolute_error: 0.0307 - val_loss: 0.0022 - val_mean_absolute_error: 0.0271\n",
      "Epoch 12/50\n",
      "85/85 [==============================] - 1s 7ms/step - loss: 0.0033 - mean_absolute_error: 0.0304 - val_loss: 0.0022 - val_mean_absolute_error: 0.0299\n",
      "Epoch 13/50\n",
      "85/85 [==============================] - 1s 7ms/step - loss: 0.0032 - mean_absolute_error: 0.0297 - val_loss: 0.0022 - val_mean_absolute_error: 0.0298\n",
      "Epoch 14/50\n",
      "85/85 [==============================] - 1s 7ms/step - loss: 0.0032 - mean_absolute_error: 0.0294 - val_loss: 0.0021 - val_mean_absolute_error: 0.0269\n",
      "Epoch 15/50\n",
      "85/85 [==============================] - 1s 7ms/step - loss: 0.0031 - mean_absolute_error: 0.0291 - val_loss: 0.0020 - val_mean_absolute_error: 0.0268\n",
      "Epoch 16/50\n",
      "85/85 [==============================] - 1s 7ms/step - loss: 0.0031 - mean_absolute_error: 0.0289 - val_loss: 0.0020 - val_mean_absolute_error: 0.0262\n",
      "Epoch 17/50\n",
      "85/85 [==============================] - 1s 7ms/step - loss: 0.0030 - mean_absolute_error: 0.0288 - val_loss: 0.0020 - val_mean_absolute_error: 0.0266\n",
      "Epoch 18/50\n",
      "85/85 [==============================] - 1s 7ms/step - loss: 0.0030 - mean_absolute_error: 0.0286 - val_loss: 0.0020 - val_mean_absolute_error: 0.0257\n",
      "Epoch 19/50\n",
      "85/85 [==============================] - 1s 7ms/step - loss: 0.0030 - mean_absolute_error: 0.0283 - val_loss: 0.0020 - val_mean_absolute_error: 0.0259\n",
      "Epoch 20/50\n",
      "85/85 [==============================] - 1s 7ms/step - loss: 0.0029 - mean_absolute_error: 0.0279 - val_loss: 0.0020 - val_mean_absolute_error: 0.0258\n",
      "Epoch 21/50\n",
      "85/85 [==============================] - 1s 7ms/step - loss: 0.0029 - mean_absolute_error: 0.0280 - val_loss: 0.0019 - val_mean_absolute_error: 0.0256\n",
      "Epoch 22/50\n",
      "85/85 [==============================] - 1s 7ms/step - loss: 0.0029 - mean_absolute_error: 0.0277 - val_loss: 0.0019 - val_mean_absolute_error: 0.0254\n",
      "Epoch 23/50\n",
      "85/85 [==============================] - 1s 7ms/step - loss: 0.0029 - mean_absolute_error: 0.0281 - val_loss: 0.0019 - val_mean_absolute_error: 0.0259\n",
      "Epoch 24/50\n",
      "85/85 [==============================] - 1s 7ms/step - loss: 0.0028 - mean_absolute_error: 0.0276 - val_loss: 0.0019 - val_mean_absolute_error: 0.0261\n",
      "Epoch 25/50\n",
      "85/85 [==============================] - 1s 8ms/step - loss: 0.0028 - mean_absolute_error: 0.0276 - val_loss: 0.0020 - val_mean_absolute_error: 0.0287\n",
      "24/24 [==============================] - 0s 3ms/step - loss: 0.0020 - mean_absolute_error: 0.0287\n"
     ]
    }
   ],
   "source": [
    "mo_lstm_model = Sequential([\n",
    "    LSTM(32, return_sequences=True),\n",
    "    Dense(units = 3)\n",
    "])\n",
    "\n",
    "history = compile_and_fit(mo_lstm_model, mo_wide_window)\n",
    "\n",
    "mo_val_performance = {}\n",
    "mo_performance = {}\n",
    "\n",
    "mo_val_performance['LSTM'] = mo_lstm_model.evaluate(mo_wide_window.val)\n",
    "mo_performance['LSTM'] = mo_lstm_model.evaluate(mo_wide_window.test, verbose=0)"
   ]
  },
  {
   "cell_type": "code",
   "execution_count": 55,
   "metadata": {},
   "outputs": [
    {
     "name": "stdout",
     "output_type": "stream",
     "text": [
      "12/12 [==============================] - 0s 1ms/step\n"
     ]
    },
    {
     "data": {
      "text/html": [
       "<div>\n",
       "<style scoped>\n",
       "    .dataframe tbody tr th:only-of-type {\n",
       "        vertical-align: middle;\n",
       "    }\n",
       "\n",
       "    .dataframe tbody tr th {\n",
       "        vertical-align: top;\n",
       "    }\n",
       "\n",
       "    .dataframe thead th {\n",
       "        text-align: right;\n",
       "    }\n",
       "</style>\n",
       "<table border=\"1\" class=\"dataframe\">\n",
       "  <thead>\n",
       "    <tr style=\"text-align: right;\">\n",
       "      <th></th>\n",
       "      <th>river_discharge</th>\n",
       "      <th>rain_sum</th>\n",
       "      <th>precip</th>\n",
       "    </tr>\n",
       "  </thead>\n",
       "  <tbody>\n",
       "    <tr>\n",
       "      <th>0</th>\n",
       "      <td>0.034817</td>\n",
       "      <td>0.095918</td>\n",
       "      <td>0.060897</td>\n",
       "    </tr>\n",
       "    <tr>\n",
       "      <th>1</th>\n",
       "      <td>0.094042</td>\n",
       "      <td>0.269388</td>\n",
       "      <td>0.087821</td>\n",
       "    </tr>\n",
       "    <tr>\n",
       "      <th>2</th>\n",
       "      <td>0.111271</td>\n",
       "      <td>0.186735</td>\n",
       "      <td>0.232692</td>\n",
       "    </tr>\n",
       "    <tr>\n",
       "      <th>3</th>\n",
       "      <td>0.156856</td>\n",
       "      <td>0.185714</td>\n",
       "      <td>0.278846</td>\n",
       "    </tr>\n",
       "    <tr>\n",
       "      <th>4</th>\n",
       "      <td>0.230079</td>\n",
       "      <td>0.530612</td>\n",
       "      <td>0.250000</td>\n",
       "    </tr>\n",
       "    <tr>\n",
       "      <th>5</th>\n",
       "      <td>0.275664</td>\n",
       "      <td>0.551020</td>\n",
       "      <td>0.071795</td>\n",
       "    </tr>\n",
       "    <tr>\n",
       "      <th>6</th>\n",
       "      <td>0.203877</td>\n",
       "      <td>0.318367</td>\n",
       "      <td>0.069872</td>\n",
       "    </tr>\n",
       "    <tr>\n",
       "      <th>7</th>\n",
       "      <td>0.127782</td>\n",
       "      <td>0.066327</td>\n",
       "      <td>0.012179</td>\n",
       "    </tr>\n",
       "    <tr>\n",
       "      <th>8</th>\n",
       "      <td>0.073941</td>\n",
       "      <td>0.078571</td>\n",
       "      <td>0.040385</td>\n",
       "    </tr>\n",
       "    <tr>\n",
       "      <th>9</th>\n",
       "      <td>0.053841</td>\n",
       "      <td>0.011224</td>\n",
       "      <td>0.058333</td>\n",
       "    </tr>\n",
       "    <tr>\n",
       "      <th>10</th>\n",
       "      <td>0.043790</td>\n",
       "      <td>0.022449</td>\n",
       "      <td>0.012821</td>\n",
       "    </tr>\n",
       "    <tr>\n",
       "      <th>11</th>\n",
       "      <td>0.055994</td>\n",
       "      <td>0.089796</td>\n",
       "      <td>0.028846</td>\n",
       "    </tr>\n",
       "    <tr>\n",
       "      <th>12</th>\n",
       "      <td>0.049174</td>\n",
       "      <td>0.020408</td>\n",
       "      <td>0.022436</td>\n",
       "    </tr>\n",
       "    <tr>\n",
       "      <th>13</th>\n",
       "      <td>0.040560</td>\n",
       "      <td>0.010204</td>\n",
       "      <td>0.023077</td>\n",
       "    </tr>\n",
       "  </tbody>\n",
       "</table>\n",
       "</div>"
      ],
      "text/plain": [
       "    river_discharge  rain_sum    precip\n",
       "0          0.034817  0.095918  0.060897\n",
       "1          0.094042  0.269388  0.087821\n",
       "2          0.111271  0.186735  0.232692\n",
       "3          0.156856  0.185714  0.278846\n",
       "4          0.230079  0.530612  0.250000\n",
       "5          0.275664  0.551020  0.071795\n",
       "6          0.203877  0.318367  0.069872\n",
       "7          0.127782  0.066327  0.012179\n",
       "8          0.073941  0.078571  0.040385\n",
       "9          0.053841  0.011224  0.058333\n",
       "10         0.043790  0.022449  0.012821\n",
       "11         0.055994  0.089796  0.028846\n",
       "12         0.049174  0.020408  0.022436\n",
       "13         0.040560  0.010204  0.023077"
      ]
     },
     "execution_count": 55,
     "metadata": {},
     "output_type": "execute_result"
    }
   ],
   "source": [
    "predicted_results = mo_baseline_last.predict(mo_wide_window.test)\n",
    "predicted_array= predicted_results[0]\n",
    "\n",
    "my_array = np.array(predicted_array)\n",
    "\n",
    "df_raw = pd.DataFrame(my_array)\n",
    "\n",
    "df = df_raw.rename(columns={0: \"river_discharge\", 1: \"rain_sum\",2:\"precip\"})\n",
    "\n",
    "\n",
    "df.head(14)"
   ]
  },
  {
   "cell_type": "code",
   "execution_count": 56,
   "metadata": {},
   "outputs": [],
   "source": [
    "mo_lstm_model.save(\"lstm_dhaka_model.h5\")"
   ]
  },
  {
   "cell_type": "code",
   "execution_count": null,
   "metadata": {},
   "outputs": [],
   "source": []
  }
 ],
 "metadata": {
  "colab": {
   "provenance": []
  },
  "kernelspec": {
   "display_name": "Python 3 (ipykernel)",
   "language": "python",
   "name": "python3"
  },
  "language_info": {
   "codemirror_mode": {
    "name": "ipython",
    "version": 3
   },
   "file_extension": ".py",
   "mimetype": "text/x-python",
   "name": "python",
   "nbconvert_exporter": "python",
   "pygments_lexer": "ipython3",
   "version": "3.10.9"
  }
 },
 "nbformat": 4,
 "nbformat_minor": 4
}
